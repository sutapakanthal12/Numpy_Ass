{
 "cells": [
  {
   "cell_type": "code",
   "execution_count": 2,
   "id": "697aaae0-31d8-4f4d-9e9a-5237bbc2919e",
   "metadata": {},
   "outputs": [],
   "source": [
    "import numpy as np\n",
    "#3. Fin^ the shape, size an^ ^imension of the following array?[[1, 2, 3, 4][5, 6, 7, 8],[9, 10, 11, 12]]\n",
    "arr=np.array([[1,2,3,4],[5,6,7,8],[9,10,11,12]])"
   ]
  },
  {
   "cell_type": "code",
   "execution_count": 3,
   "id": "4c82d67a-10b7-4067-b3a9-214a7c14128e",
   "metadata": {},
   "outputs": [
    {
     "data": {
      "text/plain": [
       "array([[ 1,  2,  3,  4],\n",
       "       [ 5,  6,  7,  8],\n",
       "       [ 9, 10, 11, 12]])"
      ]
     },
     "execution_count": 3,
     "metadata": {},
     "output_type": "execute_result"
    }
   ],
   "source": [
    "arr"
   ]
  },
  {
   "cell_type": "code",
   "execution_count": 4,
   "id": "d5652882-c567-4bf9-8838-a6c90ed6dc8e",
   "metadata": {},
   "outputs": [
    {
     "data": {
      "text/plain": [
       "(3, 4)"
      ]
     },
     "execution_count": 4,
     "metadata": {},
     "output_type": "execute_result"
    }
   ],
   "source": [
    "arr.shape"
   ]
  },
  {
   "cell_type": "code",
   "execution_count": 5,
   "id": "5b2bd8ef-fb08-40d3-adb1-2b6f22a3d4e9",
   "metadata": {},
   "outputs": [
    {
     "data": {
      "text/plain": [
       "12"
      ]
     },
     "execution_count": 5,
     "metadata": {},
     "output_type": "execute_result"
    }
   ],
   "source": [
    "arr.size"
   ]
  },
  {
   "cell_type": "code",
   "execution_count": 6,
   "id": "bde6593c-a11a-4867-8d60-192f1ed113e4",
   "metadata": {},
   "outputs": [
    {
     "data": {
      "text/plain": [
       "array([1, 2, 3, 4])"
      ]
     },
     "execution_count": 6,
     "metadata": {},
     "output_type": "execute_result"
    }
   ],
   "source": [
    "#4. Write python co^e to access the first row of the following array?[[1, 2, 3, 4][5, 6, 7, 8],[9, 10, 11, 12]]\n",
    "arr[0]"
   ]
  },
  {
   "cell_type": "code",
   "execution_count": 12,
   "id": "2208deaa-01f5-4081-ac3e-2ba16502a243",
   "metadata": {},
   "outputs": [
    {
     "data": {
      "text/plain": [
       "12"
      ]
     },
     "execution_count": 12,
     "metadata": {},
     "output_type": "execute_result"
    }
   ],
   "source": [
    "#5. How ^o you access the element at the thir^ row an^ fourth column from the given numpy array?[[1, 2, 3, 4][5, 6, 7, 8],[9, 10, 11, 12]]\n",
    "arr[2,3]\n"
   ]
  },
  {
   "cell_type": "code",
   "execution_count": 15,
   "id": "0ff1b9bd-f535-48f2-90bc-1dc4f6102b26",
   "metadata": {},
   "outputs": [
    {
     "data": {
      "text/plain": [
       "array([ 1,  3,  5,  7,  9, 11])"
      ]
     },
     "execution_count": 15,
     "metadata": {},
     "output_type": "execute_result"
    }
   ],
   "source": [
    "#6. Write co^e to extract all o^^-in^exe^ elements from the given numpy array?[[1, 2, 3, 4][5, 6, 7, 8],[9, 10, 11, 12]]\n",
    "arr[arr % 2==1]"
   ]
  },
  {
   "cell_type": "code",
   "execution_count": 25,
   "id": "6d7cb0ee-6983-4cae-8284-cfefb05dc49a",
   "metadata": {},
   "outputs": [],
   "source": [
    "#7. How can you generate a ran^om 3x3 matrix with values between 0 an^ 1?\n",
    "a=np.random.random((1,3,3))"
   ]
  },
  {
   "cell_type": "code",
   "execution_count": 26,
   "id": "866c6e6c-dca2-460e-8405-c4e424c66706",
   "metadata": {},
   "outputs": [
    {
     "data": {
      "text/plain": [
       "array([[[0.2949048 , 0.73962896, 0.01923564],\n",
       "        [0.20777244, 0.93601145, 0.05692106],\n",
       "        [0.79887062, 0.2315227 , 0.83422194]]])"
      ]
     },
     "execution_count": 26,
     "metadata": {},
     "output_type": "execute_result"
    }
   ],
   "source": [
    "a"
   ]
  },
  {
   "cell_type": "code",
   "execution_count": 29,
   "id": "b65e038c-5618-4d60-af99-787ea4111d5f",
   "metadata": {},
   "outputs": [],
   "source": [
    "#8. Describe the ^ifference between np.ran^om.ran^ an^ np.ran^om.ran^n?\n",
    "a1=np.random.rand()\n",
    "a2=np.random.randn()"
   ]
  },
  {
   "cell_type": "code",
   "execution_count": 30,
   "id": "27db832b-22c3-4de9-a0ed-0bc5f8c4e1b1",
   "metadata": {},
   "outputs": [
    {
     "data": {
      "text/plain": [
       "0.8981750885215228"
      ]
     },
     "execution_count": 30,
     "metadata": {},
     "output_type": "execute_result"
    }
   ],
   "source": [
    "a1"
   ]
  },
  {
   "cell_type": "code",
   "execution_count": 31,
   "id": "8523b5b9-beaf-46b4-ab48-bde4ec6495dc",
   "metadata": {},
   "outputs": [
    {
     "data": {
      "text/plain": [
       "-0.6275213467556703"
      ]
     },
     "execution_count": 31,
     "metadata": {},
     "output_type": "execute_result"
    }
   ],
   "source": [
    "a2"
   ]
  },
  {
   "cell_type": "code",
   "execution_count": 32,
   "id": "b77b9367-2f40-47b2-9d68-a809f7a67a3f",
   "metadata": {},
   "outputs": [
    {
     "data": {
      "text/plain": [
       "array([[ 1,  2,  3,  4],\n",
       "       [ 5,  6,  7,  8],\n",
       "       [ 9, 10, 11, 12]])"
      ]
     },
     "execution_count": 32,
     "metadata": {},
     "output_type": "execute_result"
    }
   ],
   "source": [
    "#9. Write co^e to increase the ^imension of the following array?[[1, 2, 3, 4][5, 6, 7, 8],[9, 10, 11, 12]]\n",
    "arr"
   ]
  },
  {
   "cell_type": "code",
   "execution_count": 33,
   "id": "1f377036-6a59-4451-866a-ad43ea386076",
   "metadata": {},
   "outputs": [
    {
     "data": {
      "text/plain": [
       "2"
      ]
     },
     "execution_count": 33,
     "metadata": {},
     "output_type": "execute_result"
    }
   ],
   "source": [
    "arr.ndim"
   ]
  },
  {
   "cell_type": "code",
   "execution_count": 34,
   "id": "34e7b506-271c-409f-b36d-1a78699d356a",
   "metadata": {},
   "outputs": [],
   "source": [
    "a3=np.random.random((2,3,3))"
   ]
  },
  {
   "cell_type": "code",
   "execution_count": 35,
   "id": "bc0d80f6-f7f1-47e2-adb1-41b7b3c0f745",
   "metadata": {},
   "outputs": [
    {
     "data": {
      "text/plain": [
       "array([[[0.58769652, 0.53492869, 0.62009383],\n",
       "        [0.25255729, 0.46054375, 0.95037419],\n",
       "        [0.84611089, 0.16370079, 0.47481984]],\n",
       "\n",
       "       [[0.99960887, 0.74840909, 0.57091807],\n",
       "        [0.63903117, 0.6685364 , 0.66720644],\n",
       "        [0.57481221, 0.91726201, 0.43791944]]])"
      ]
     },
     "execution_count": 35,
     "metadata": {},
     "output_type": "execute_result"
    }
   ],
   "source": [
    "a3"
   ]
  },
  {
   "cell_type": "code",
   "execution_count": 36,
   "id": "8e83599c-7515-43ad-85e4-5396ba211cfa",
   "metadata": {},
   "outputs": [
    {
     "data": {
      "text/plain": [
       "3"
      ]
     },
     "execution_count": 36,
     "metadata": {},
     "output_type": "execute_result"
    }
   ],
   "source": [
    "a3.ndim"
   ]
  },
  {
   "cell_type": "code",
   "execution_count": 37,
   "id": "76787c0c-a93b-4c0e-80c4-58c4fa151f2b",
   "metadata": {},
   "outputs": [
    {
     "data": {
      "text/plain": [
       "array([[ 1,  2,  3,  4],\n",
       "       [ 5,  6,  7,  8],\n",
       "       [ 9, 10, 11, 12]])"
      ]
     },
     "execution_count": 37,
     "metadata": {},
     "output_type": "execute_result"
    }
   ],
   "source": [
    "#10. How to transpose the following array in NumPy?[[1, 2, 3, 4][5, 6, 7, 8],[9, 10, 11, 12]]\n",
    "arr"
   ]
  },
  {
   "cell_type": "code",
   "execution_count": 38,
   "id": "0dac1453-a404-4ed0-99ea-c08f89a2266b",
   "metadata": {},
   "outputs": [
    {
     "data": {
      "text/plain": [
       "array([[ 1,  5,  9],\n",
       "       [ 2,  6, 10],\n",
       "       [ 3,  7, 11],\n",
       "       [ 4,  8, 12]])"
      ]
     },
     "execution_count": 38,
     "metadata": {},
     "output_type": "execute_result"
    }
   ],
   "source": [
    "arr.T"
   ]
  },
  {
   "cell_type": "code",
   "execution_count": 39,
   "id": "1d51ccda-115e-44e3-a5dc-9c2d1b421898",
   "metadata": {},
   "outputs": [],
   "source": [
    "#11. Consi^er the following matrix:\n",
    "#Matrix A2 [[1, 2, 3, 4] [5, 6, 7, 8],[9, 10, 11, 12]]\n",
    "#Matrix B2 [[1, 2, 3, 4] [5, 6, 7, 8],[9, 10, 11, 12]]\n",
    "#Perform the following operation using Python1\n",
    "#,+ I(dex wiLe multiplicatio'\n",
    "#1. Matix multiplicatio'\n",
    "#2.Add both the maticK\n",
    "#3. Subtact matix B om \n",
    "#4. Diide Matix B by A"
   ]
  },
  {
   "cell_type": "code",
   "execution_count": 62,
   "id": "6fdca077-7a95-44f1-b74a-5c79184efc71",
   "metadata": {},
   "outputs": [],
   "source": [
    "A=np.array([[1, 2, 3, 4], [5, 6, 7, 8],[9, 10, 11, 12]])\n",
    "B=np.array([[1, 2, 3, 4] ,[5, 6, 7, 8],[9, 10, 11, 12]])"
   ]
  },
  {
   "cell_type": "code",
   "execution_count": 52,
   "id": "bb598fb0-4ba6-4581-8f46-4de905a42ae1",
   "metadata": {},
   "outputs": [
    {
     "data": {
      "text/plain": [
       "array([[ 1,  2,  3,  4],\n",
       "       [ 5,  6,  7,  8],\n",
       "       [ 9, 10, 11, 12]])"
      ]
     },
     "execution_count": 52,
     "metadata": {},
     "output_type": "execute_result"
    }
   ],
   "source": [
    "A"
   ]
  },
  {
   "cell_type": "code",
   "execution_count": 53,
   "id": "4b63b03a-0cbd-4630-a22d-f7ca42ac95f9",
   "metadata": {},
   "outputs": [
    {
     "data": {
      "text/plain": [
       "array([[ 1,  2,  3,  4],\n",
       "       [ 5,  6,  7,  8],\n",
       "       [ 9, 10, 11, 12]])"
      ]
     },
     "execution_count": 53,
     "metadata": {},
     "output_type": "execute_result"
    }
   ],
   "source": [
    "B"
   ]
  },
  {
   "cell_type": "code",
   "execution_count": 54,
   "id": "c08f357e-b418-467a-a6f2-904e54f2ccd5",
   "metadata": {},
   "outputs": [
    {
     "data": {
      "text/plain": [
       "array([[  1,   4,   9,  16],\n",
       "       [ 25,  36,  49,  64],\n",
       "       [ 81, 100, 121, 144]])"
      ]
     },
     "execution_count": 54,
     "metadata": {},
     "output_type": "execute_result"
    }
   ],
   "source": [
    "#1.\n",
    "A*B"
   ]
  },
  {
   "cell_type": "code",
   "execution_count": 63,
   "id": "1cae49bb-3bd7-499e-b70e-250ac390ab3d",
   "metadata": {},
   "outputs": [
    {
     "ename": "ValueError",
     "evalue": "matmul: Input operand 1 has a mismatch in its core dimension 0, with gufunc signature (n?,k),(k,m?)->(n?,m?) (size 3 is different from 4)",
     "output_type": "error",
     "traceback": [
      "\u001b[0;31m---------------------------------------------------------------------------\u001b[0m",
      "\u001b[0;31mValueError\u001b[0m                                Traceback (most recent call last)",
      "Cell \u001b[0;32mIn[63], line 2\u001b[0m\n\u001b[1;32m      1\u001b[0m \u001b[38;5;66;03m#2.\u001b[39;00m\n\u001b[0;32m----> 2\u001b[0m \u001b[43mA\u001b[49m\u001b[38;5;129;43m@B\u001b[39;49m\n",
      "\u001b[0;31mValueError\u001b[0m: matmul: Input operand 1 has a mismatch in its core dimension 0, with gufunc signature (n?,k),(k,m?)->(n?,m?) (size 3 is different from 4)"
     ]
    }
   ],
   "source": [
    "#2.\n",
    "A@B"
   ]
  },
  {
   "cell_type": "code",
   "execution_count": 65,
   "id": "d4c8ae0f-9c3c-4d6a-af22-7b13e51ae9eb",
   "metadata": {},
   "outputs": [
    {
     "data": {
      "text/plain": [
       "array([[ 2,  4,  6,  8],\n",
       "       [10, 12, 14, 16],\n",
       "       [18, 20, 22, 24]])"
      ]
     },
     "execution_count": 65,
     "metadata": {},
     "output_type": "execute_result"
    }
   ],
   "source": [
    "#3.\n",
    "A+B"
   ]
  },
  {
   "cell_type": "code",
   "execution_count": 67,
   "id": "87374cc9-0a2c-4c19-af96-79f507b3a5b8",
   "metadata": {},
   "outputs": [
    {
     "data": {
      "text/plain": [
       "array([[0, 0, 0, 0],\n",
       "       [0, 0, 0, 0],\n",
       "       [0, 0, 0, 0]])"
      ]
     },
     "execution_count": 67,
     "metadata": {},
     "output_type": "execute_result"
    }
   ],
   "source": [
    "#4.\n",
    "B - A"
   ]
  },
  {
   "cell_type": "code",
   "execution_count": 68,
   "id": "790cb9b6-eff1-478c-8c14-01b7f5961748",
   "metadata": {},
   "outputs": [
    {
     "data": {
      "text/plain": [
       "array([[1., 1., 1., 1.],\n",
       "       [1., 1., 1., 1.],\n",
       "       [1., 1., 1., 1.]])"
      ]
     },
     "execution_count": 68,
     "metadata": {},
     "output_type": "execute_result"
    }
   ],
   "source": [
    "#5.\n",
    "B / A"
   ]
  },
  {
   "cell_type": "code",
   "execution_count": 73,
   "id": "9530fc5e-14ea-4437-ba10-a95f7d45385b",
   "metadata": {},
   "outputs": [],
   "source": [
    "#12. Which function in Numpy can be use^ to swap the byte or^er of an array?\n",
    "# Ans :- byteswap()"
   ]
  },
  {
   "cell_type": "code",
   "execution_count": 74,
   "id": "fe9f10ef-13b6-4b4f-874c-f5e149ca0a60",
   "metadata": {},
   "outputs": [],
   "source": [
    "#13. What is the significance of the np.linalg.inv function?\n",
    "x=np.array([[1,2],[3,4]])\n",
    "y=np.linalg.inv(x)"
   ]
  },
  {
   "cell_type": "code",
   "execution_count": 75,
   "id": "5e2e1590-18bb-41d2-8083-4acdeec27461",
   "metadata": {},
   "outputs": [
    {
     "data": {
      "text/plain": [
       "array([[1, 2],\n",
       "       [3, 4]])"
      ]
     },
     "execution_count": 75,
     "metadata": {},
     "output_type": "execute_result"
    }
   ],
   "source": [
    "x"
   ]
  },
  {
   "cell_type": "code",
   "execution_count": 76,
   "id": "ea1a2e24-674c-46fd-a0bc-bb073d9f5284",
   "metadata": {},
   "outputs": [
    {
     "data": {
      "text/plain": [
       "array([[-2. ,  1. ],\n",
       "       [ 1.5, -0.5]])"
      ]
     },
     "execution_count": 76,
     "metadata": {},
     "output_type": "execute_result"
    }
   ],
   "source": [
    "y"
   ]
  },
  {
   "cell_type": "code",
   "execution_count": 84,
   "id": "5493f749-5bff-46da-ac30-bbad2fcd1949",
   "metadata": {},
   "outputs": [],
   "source": [
    "#14. What ^oes the np.reshape function ^o, an^ how is it use^?\n",
    "arr=np.array([[1,2,3,4,5,7]])"
   ]
  },
  {
   "cell_type": "code",
   "execution_count": 85,
   "id": "19f29237-6d8b-44c6-801c-77be25f87c90",
   "metadata": {},
   "outputs": [
    {
     "data": {
      "text/plain": [
       "array([[1, 2, 3],\n",
       "       [4, 5, 7]])"
      ]
     },
     "execution_count": 85,
     "metadata": {},
     "output_type": "execute_result"
    }
   ],
   "source": [
    "arr.reshape(2,3)"
   ]
  },
  {
   "cell_type": "code",
   "execution_count": 86,
   "id": "7c527727-4a55-40cc-b657-ef5d8499d175",
   "metadata": {},
   "outputs": [],
   "source": [
    "#15. What is broa^casting in Numpy?\n",
    "#Ans: Broadcasting describe how numpy treats arrays with different shapes during arrithmetic operation."
   ]
  },
  {
   "cell_type": "code",
   "execution_count": null,
   "id": "ebc2af6f-6bac-4e68-826b-68e94a52714d",
   "metadata": {},
   "outputs": [],
   "source": []
  }
 ],
 "metadata": {
  "kernelspec": {
   "display_name": "Python 3 (ipykernel)",
   "language": "python",
   "name": "python3"
  },
  "language_info": {
   "codemirror_mode": {
    "name": "ipython",
    "version": 3
   },
   "file_extension": ".py",
   "mimetype": "text/x-python",
   "name": "python",
   "nbconvert_exporter": "python",
   "pygments_lexer": "ipython3",
   "version": "3.10.8"
  }
 },
 "nbformat": 4,
 "nbformat_minor": 5
}
